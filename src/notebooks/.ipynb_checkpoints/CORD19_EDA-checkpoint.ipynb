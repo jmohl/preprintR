{
 "cells": [
  {
   "cell_type": "markdown",
   "metadata": {},
   "source": [
    "# Initial exploration of CORD_19 covid literature dataset"
   ]
  },
  {
   "cell_type": "markdown",
   "metadata": {},
   "source": [
    "### Background\n",
    "\n",
    "One of the most amazing things about the response to the COVID-19 pandemic has been theamount of research released on extremely short timelines. While this is an incredible human accomplishment, the generation of this much science exacerbates an existing problem facing many scientific researchers: it is often impossible to read every piece of potentially relevant research while still maintaining a productive output in the lab.\n",
    "\n",
    "This problem is made even worse by the existence of low quality science (whether intentionally fraudulent or simply careless) which must be waded through in order to find useful work. Ideally, it is the role of peer reviewed journals to solve this problem (though this process is [not perfect](https://statmodeling.stat.columbia.edu/2020/06/15/surgisphere-scandal-legacy-media-lancet-still-dont-get-it/) and journals are not without other flaws). However, simply publishing something in a professional journal is no guarantee that it is not ‘garbage science’. In fact, this whole project of evaluating the COVID-19 literature was inspired for me by [this graphic](https://www.economist.com/graphic-detail/2020/05/30/how-to-spot-dodgy-academic-journals) from the economist (recreated below), which shows that ~40% of the journals existing in 2018 were essentially little more than pay to publish scams! And this number has been growing since 2010! Clearly there is a market for writing and publishing junk science, and I see no reason why coronavirus related research would be exempt from this trend.\n",
    "\n",
    "Most researchers are aware of the reputable journals in their own fields, and so are unlikely to waste time reading work printed in this type of predatory journal. However there has been a trend in the scientific community generally (and the pandemic community particularly) towards getting the latest science from preprint servers like MedRxiv or BioRxiv. These manuscripts have not yet been through peer review, and so there is no filter in place separating quality research from junk.\n",
    "\n",
    "This is a potential disaster. It's not always trivial to spot bad science, and countless hours could be wasted on this process that could be spent in much more productive ways. Not to mention the cases where such work is <a href=\"https://www.thelancet.com/journals/lancet/article/PIIS0140-6736(20)31180-6\">both fraudulent and actively harmful</a>."
   ]
  },
  {
   "cell_type": "code",
   "execution_count": 1,
   "metadata": {},
   "outputs": [],
   "source": [
    "#load packages\n",
    "import pandas as pd\n",
    "import matplotlib.pyplot as plt\n",
    "import numpy as np\n",
    "import os\n",
    "import json\n",
    "import sys\n",
    "import re\n",
    "sys.path.insert(1, 'D:\\\\GitHub\\\\preprintR\\\\src') #getting access to other code snippets"
   ]
  },
  {
   "cell_type": "code",
   "execution_count": 2,
   "metadata": {},
   "outputs": [
    {
     "data": {
      "image/png": "[encoded data removed]",
      "text/plain": [
       "<Figure size 432x288 with 1 Axes>"
      ]
     },
     "metadata": {
      "needs_background": "light"
     },
     "output_type": "display_data"
    }
   ],
   "source": [
    "from dodgy_journals_plot import make_plot\n",
    "dodgy_data_path = r'D:\\GitHub\\preprintR\\data\\raw\\dodgy_journals.csv'\n",
    "make_plot(dodgy_data_path)"
   ]
  },
  {
   "cell_type": "markdown",
   "metadata": {},
   "source": [
    "### The Problem\n",
    "There is apparently a thriving market for publishing shoddy science, and the peer review process for filtering out this poor quality work is relatively slow. Thus pre-print servers like MedRxiv and BioRxiv are potentially riddled with fraudulent or erroneous papers, wasting critical researcher time. I would like to **develop a tool for automatically flagging these low quality papers**, but first I need to spend some time looking at the raw data to understand what types of features might be usable for solving this problem"
   ]
  },
  {
   "cell_type": "markdown",
   "metadata": {},
   "source": [
    "### The Dataset"
   ]
  },
  {
   "cell_type": "markdown",
   "metadata": {},
   "source": [
    "The [CORD-19](https://www.kaggle.com/allen-institute-for-ai/CORD-19-research-challenge) dataset is a webscraped dataset of nearly 200,000 articles dealing with COVID-19, SARS-COV-2 and related coronaviruses. This is provided as an open source tool through Kaggle, and is a great resource for understanding the evolving literature on this topic.\n",
    "\n",
    "**Other datasets**\n",
    "\n",
    "[PMC open access subset](https://www.ncbi.nlm.nih.gov/pmc/tools/openftlist/) is a collection of nearly 2 million scientific articles. These span a much wider range of topics and should be useful for getting a broader understanding of the literature (particularly important for spotting what might be considered bad science)\n",
    "\n",
    "word vector encodings trained on biomedical research: [1](https://github.com/RaRe-Technologies/gensim-data) [2](http://bioasq.org/news/bioasq-releases-continuous-space-word-vectors-obtained-applying-word2vec-pubmed-abstracts)\n"
   ]
  },
  {
   "cell_type": "markdown",
   "metadata": {},
   "source": [
    "## Load and prepare data"
   ]
  },
  {
   "cell_type": "code",
   "execution_count": 3,
   "metadata": {},
   "outputs": [
    {
     "name": "stderr",
     "output_type": "stream",
     "text": [
      "C:\\Users\\Jeff\\Anaconda3\\lib\\site-packages\\IPython\\core\\interactiveshell.py:3057: DtypeWarning: Columns (1,5,13,14,15,16) have mixed types. Specify dtype option on import or set low_memory=False.\n",
      "  interactivity=interactivity, compiler=compiler, result=result)\n"
     ]
    }
   ],
   "source": [
    "root_path = '../../data/raw/CORD19'\n",
    "metadata_path = f'{root_path}/metadata.csv'\n",
    "meta_df = pd.read_csv(metadata_path, dtype={'pubmed_id':str, 'Microsoft Academic Paper ID': str, 'doi': str})"
   ]
  },
  {
   "cell_type": "code",
   "execution_count": 4,
   "metadata": {},
   "outputs": [
    {
     "data": {
      "text/html": [
       "<div>\n",
       "<style scoped>\n",
       "    .dataframe tbody tr th:only-of-type {\n",
       "        vertical-align: middle;\n",
       "    }\n",
       "\n",
       "    .dataframe tbody tr th {\n",
       "        vertical-align: top;\n",
       "    }\n",
       "\n",
       "    .dataframe thead th {\n",
       "        text-align: right;\n",
       "    }\n",
       "</style>\n",
       "<table border=\"1\" class=\"dataframe\">\n",
       "  <thead>\n",
       "    <tr style=\"text-align: right;\">\n",
       "      <th></th>\n",
       "      <th>cord_uid</th>\n",
       "      <th>sha</th>\n",
       "      <th>source_x</th>\n",
       "      <th>title</th>\n",
       "      <th>doi</th>\n",
       "      <th>pmcid</th>\n",
       "      <th>pubmed_id</th>\n",
       "      <th>license</th>\n",
       "      <th>abstract</th>\n",
       "      <th>publish_time</th>\n",
       "      <th>authors</th>\n",
       "      <th>journal</th>\n",
       "      <th>mag_id</th>\n",
       "      <th>who_covidence_id</th>\n",
       "      <th>arxiv_id</th>\n",
       "      <th>pdf_json_files</th>\n",
       "      <th>pmc_json_files</th>\n",
       "      <th>url</th>\n",
       "      <th>s2_id</th>\n",
       "    </tr>\n",
       "  </thead>\n",
       "  <tbody>\n",
       "    <tr>\n",
       "      <th>0</th>\n",
       "      <td>ug7v899j</td>\n",
       "      <td>d1aafb70c066a2068b02786f8929fd9c900897fb</td>\n",
       "      <td>PMC</td>\n",
       "      <td>Clinical features of culture-proven Mycoplasma...</td>\n",
       "      <td>10.1186/1471-2334-1-6</td>\n",
       "      <td>PMC35282</td>\n",
       "      <td>11472636</td>\n",
       "      <td>no-cc</td>\n",
       "      <td>OBJECTIVE: This retrospective chart review des...</td>\n",
       "      <td>2001-07-04</td>\n",
       "      <td>Madani, Tariq A; Al-Ghamdi, Aisha A</td>\n",
       "      <td>BMC Infect Dis</td>\n",
       "      <td>NaN</td>\n",
       "      <td>NaN</td>\n",
       "      <td>NaN</td>\n",
       "      <td>document_parses/pdf_json/d1aafb70c066a2068b027...</td>\n",
       "      <td>document_parses/pmc_json/PMC35282.xml.json</td>\n",
       "      <td>https://www.ncbi.nlm.nih.gov/pmc/articles/PMC3...</td>\n",
       "      <td>NaN</td>\n",
       "    </tr>\n",
       "    <tr>\n",
       "      <th>1</th>\n",
       "      <td>02tnwd4m</td>\n",
       "      <td>6b0567729c2143a66d737eb0a2f63f2dce2e5a7d</td>\n",
       "      <td>PMC</td>\n",
       "      <td>Nitric oxide: a pro-inflammatory mediator in l...</td>\n",
       "      <td>10.1186/rr14</td>\n",
       "      <td>PMC59543</td>\n",
       "      <td>11667967</td>\n",
       "      <td>no-cc</td>\n",
       "      <td>Inflammatory diseases of the respiratory tract...</td>\n",
       "      <td>2000-08-15</td>\n",
       "      <td>Vliet, Albert van der; Eiserich, Jason P; Cros...</td>\n",
       "      <td>Respir Res</td>\n",
       "      <td>NaN</td>\n",
       "      <td>NaN</td>\n",
       "      <td>NaN</td>\n",
       "      <td>document_parses/pdf_json/6b0567729c2143a66d737...</td>\n",
       "      <td>document_parses/pmc_json/PMC59543.xml.json</td>\n",
       "      <td>https://www.ncbi.nlm.nih.gov/pmc/articles/PMC5...</td>\n",
       "      <td>NaN</td>\n",
       "    </tr>\n",
       "  </tbody>\n",
       "</table>\n",
       "</div>"
      ],
      "text/plain": [
       "   cord_uid                                       sha source_x  \\\n",
       "0  ug7v899j  d1aafb70c066a2068b02786f8929fd9c900897fb      PMC   \n",
       "1  02tnwd4m  6b0567729c2143a66d737eb0a2f63f2dce2e5a7d      PMC   \n",
       "\n",
       "                                               title                    doi  \\\n",
       "0  Clinical features of culture-proven Mycoplasma...  10.1186/1471-2334-1-6   \n",
       "1  Nitric oxide: a pro-inflammatory mediator in l...           10.1186/rr14   \n",
       "\n",
       "      pmcid pubmed_id license  \\\n",
       "0  PMC35282  11472636   no-cc   \n",
       "1  PMC59543  11667967   no-cc   \n",
       "\n",
       "                                            abstract publish_time  \\\n",
       "0  OBJECTIVE: This retrospective chart review des...   2001-07-04   \n",
       "1  Inflammatory diseases of the respiratory tract...   2000-08-15   \n",
       "\n",
       "                                             authors         journal  mag_id  \\\n",
       "0                Madani, Tariq A; Al-Ghamdi, Aisha A  BMC Infect Dis     NaN   \n",
       "1  Vliet, Albert van der; Eiserich, Jason P; Cros...      Respir Res     NaN   \n",
       "\n",
       "  who_covidence_id arxiv_id  \\\n",
       "0              NaN      NaN   \n",
       "1              NaN      NaN   \n",
       "\n",
       "                                      pdf_json_files  \\\n",
       "0  document_parses/pdf_json/d1aafb70c066a2068b027...   \n",
       "1  document_parses/pdf_json/6b0567729c2143a66d737...   \n",
       "\n",
       "                               pmc_json_files  \\\n",
       "0  document_parses/pmc_json/PMC35282.xml.json   \n",
       "1  document_parses/pmc_json/PMC59543.xml.json   \n",
       "\n",
       "                                                 url  s2_id  \n",
       "0  https://www.ncbi.nlm.nih.gov/pmc/articles/PMC3...    NaN  \n",
       "1  https://www.ncbi.nlm.nih.gov/pmc/articles/PMC5...    NaN  "
      ]
     },
     "execution_count": 4,
     "metadata": {},
     "output_type": "execute_result"
    }
   ],
   "source": [
    "meta_df.head(2)"
   ]
  },
  {
   "cell_type": "code",
   "execution_count": 5,
   "metadata": {},
   "outputs": [
    {
     "data": {
      "text/plain": [
       "cord_uid             object\n",
       "sha                  object\n",
       "source_x             object\n",
       "title                object\n",
       "doi                  object\n",
       "pmcid                object\n",
       "pubmed_id            object\n",
       "license              object\n",
       "abstract             object\n",
       "publish_time         object\n",
       "authors              object\n",
       "journal              object\n",
       "mag_id              float64\n",
       "who_covidence_id     object\n",
       "arxiv_id             object\n",
       "pdf_json_files       object\n",
       "pmc_json_files       object\n",
       "url                  object\n",
       "s2_id               float64\n",
       "dtype: object"
      ]
     },
     "execution_count": 5,
     "metadata": {},
     "output_type": "execute_result"
    }
   ],
   "source": [
    "meta_df.dtypes"
   ]
  },
  {
   "cell_type": "markdown",
   "metadata": {},
   "source": [
    "For now, I just want to get a sense of the scope of this dataset. The most interesting pieces for what I'm looking at are the title and abstract (which can get me some idea of the content), the publication date (publish_time), and the journal."
   ]
  },
  {
   "cell_type": "markdown",
   "metadata": {},
   "source": [
    "It is also worth pointing out that many of these titles has full text available as part of this dataset, which is linked through the pmc_json_files field. But I don't think that I want to do anything with the full text yet."
   ]
  },
  {
   "cell_type": "code",
   "execution_count": 6,
   "metadata": {},
   "outputs": [
    {
     "data": {
      "text/plain": [
       "cord_uid            0\n",
       "title              50\n",
       "abstract        51202\n",
       "publish_time       18\n",
       "journal          9962\n",
       "dtype: int64"
      ]
     },
     "execution_count": 6,
     "metadata": {},
     "output_type": "execute_result"
    }
   ],
   "source": [
    "meta_df[['cord_uid','title','abstract','publish_time','journal']].isnull().sum()"
   ]
  },
  {
   "cell_type": "markdown",
   "metadata": {},
   "source": [
    "Looks like we are missing a ton of abstracts, a fair amount of journals, and just a few titles and publish times. I am not particularly worried about any of these except for the publish_time and possible the journal. Cleaning those up a bit."
   ]
  },
  {
   "cell_type": "code",
   "execution_count": 7,
   "metadata": {},
   "outputs": [
    {
     "name": "stdout",
     "output_type": "stream",
     "text": [
      "(181778, 19)\n",
      "(181760, 19)\n"
     ]
    },
    {
     "data": {
      "text/plain": [
       "cord_uid        0\n",
       "title           0\n",
       "abstract        0\n",
       "publish_time    0\n",
       "journal         0\n",
       "publish_year    0\n",
       "dtype: int64"
      ]
     },
     "execution_count": 7,
     "metadata": {},
     "output_type": "execute_result"
    }
   ],
   "source": [
    "print(meta_df.shape)\n",
    "meta_df = meta_df[meta_df['publish_time'].notna()]\n",
    "meta_df['journal'].fillna('none',inplace = True)\n",
    "meta_df['title'].fillna('none',inplace = True)\n",
    "meta_df['abstract'].fillna('none',inplace = True)\n",
    "\n",
    "print(meta_df.shape)\n",
    "#extract just the year from the date string\n",
    "meta_df['publish_year'] = pd.DatetimeIndex(meta_df['publish_time']).year\n",
    "meta_df[['cord_uid','title','abstract','publish_time','journal','publish_year']].isnull().sum()\n",
    "\n"
   ]
  },
  {
   "cell_type": "code",
   "execution_count": 8,
   "metadata": {},
   "outputs": [
    {
     "data": {
      "text/html": [
       "<div>\n",
       "<style scoped>\n",
       "    .dataframe tbody tr th:only-of-type {\n",
       "        vertical-align: middle;\n",
       "    }\n",
       "\n",
       "    .dataframe tbody tr th {\n",
       "        vertical-align: top;\n",
       "    }\n",
       "\n",
       "    .dataframe thead th {\n",
       "        text-align: right;\n",
       "    }\n",
       "</style>\n",
       "<table border=\"1\" class=\"dataframe\">\n",
       "  <thead>\n",
       "    <tr style=\"text-align: right;\">\n",
       "      <th></th>\n",
       "      <th>cord_uid</th>\n",
       "      <th>sha</th>\n",
       "      <th>source_x</th>\n",
       "      <th>title</th>\n",
       "      <th>doi</th>\n",
       "      <th>pmcid</th>\n",
       "      <th>pubmed_id</th>\n",
       "      <th>license</th>\n",
       "      <th>abstract</th>\n",
       "      <th>publish_time</th>\n",
       "      <th>authors</th>\n",
       "      <th>journal</th>\n",
       "      <th>mag_id</th>\n",
       "      <th>who_covidence_id</th>\n",
       "      <th>arxiv_id</th>\n",
       "      <th>pdf_json_files</th>\n",
       "      <th>pmc_json_files</th>\n",
       "      <th>url</th>\n",
       "      <th>s2_id</th>\n",
       "      <th>publish_year</th>\n",
       "    </tr>\n",
       "  </thead>\n",
       "  <tbody>\n",
       "    <tr>\n",
       "      <th>0</th>\n",
       "      <td>ug7v899j</td>\n",
       "      <td>d1aafb70c066a2068b02786f8929fd9c900897fb</td>\n",
       "      <td>PMC</td>\n",
       "      <td>Clinical features of culture-proven Mycoplasma...</td>\n",
       "      <td>10.1186/1471-2334-1-6</td>\n",
       "      <td>PMC35282</td>\n",
       "      <td>11472636</td>\n",
       "      <td>no-cc</td>\n",
       "      <td>OBJECTIVE: This retrospective chart review des...</td>\n",
       "      <td>2001-07-04</td>\n",
       "      <td>Madani, Tariq A; Al-Ghamdi, Aisha A</td>\n",
       "      <td>BMC Infect Dis</td>\n",
       "      <td>NaN</td>\n",
       "      <td>NaN</td>\n",
       "      <td>NaN</td>\n",
       "      <td>document_parses/pdf_json/d1aafb70c066a2068b027...</td>\n",
       "      <td>document_parses/pmc_json/PMC35282.xml.json</td>\n",
       "      <td>https://www.ncbi.nlm.nih.gov/pmc/articles/PMC3...</td>\n",
       "      <td>NaN</td>\n",
       "      <td>2001</td>\n",
       "    </tr>\n",
       "    <tr>\n",
       "      <th>1</th>\n",
       "      <td>02tnwd4m</td>\n",
       "      <td>6b0567729c2143a66d737eb0a2f63f2dce2e5a7d</td>\n",
       "      <td>PMC</td>\n",
       "      <td>Nitric oxide: a pro-inflammatory mediator in l...</td>\n",
       "      <td>10.1186/rr14</td>\n",
       "      <td>PMC59543</td>\n",
       "      <td>11667967</td>\n",
       "      <td>no-cc</td>\n",
       "      <td>Inflammatory diseases of the respiratory tract...</td>\n",
       "      <td>2000-08-15</td>\n",
       "      <td>Vliet, Albert van der; Eiserich, Jason P; Cros...</td>\n",
       "      <td>Respir Res</td>\n",
       "      <td>NaN</td>\n",
       "      <td>NaN</td>\n",
       "      <td>NaN</td>\n",
       "      <td>document_parses/pdf_json/6b0567729c2143a66d737...</td>\n",
       "      <td>document_parses/pmc_json/PMC59543.xml.json</td>\n",
       "      <td>https://www.ncbi.nlm.nih.gov/pmc/articles/PMC5...</td>\n",
       "      <td>NaN</td>\n",
       "      <td>2000</td>\n",
       "    </tr>\n",
       "    <tr>\n",
       "      <th>2</th>\n",
       "      <td>ejv2xln0</td>\n",
       "      <td>06ced00a5fc04215949aa72528f2eeaae1d58927</td>\n",
       "      <td>PMC</td>\n",
       "      <td>Surfactant protein-D and pulmonary host defense</td>\n",
       "      <td>10.1186/rr19</td>\n",
       "      <td>PMC59549</td>\n",
       "      <td>11667972</td>\n",
       "      <td>no-cc</td>\n",
       "      <td>Surfactant protein-D (SP-D) participates in th...</td>\n",
       "      <td>2000-08-25</td>\n",
       "      <td>Crouch, Erika C</td>\n",
       "      <td>Respir Res</td>\n",
       "      <td>NaN</td>\n",
       "      <td>NaN</td>\n",
       "      <td>NaN</td>\n",
       "      <td>document_parses/pdf_json/06ced00a5fc04215949aa...</td>\n",
       "      <td>document_parses/pmc_json/PMC59549.xml.json</td>\n",
       "      <td>https://www.ncbi.nlm.nih.gov/pmc/articles/PMC5...</td>\n",
       "      <td>NaN</td>\n",
       "      <td>2000</td>\n",
       "    </tr>\n",
       "    <tr>\n",
       "      <th>3</th>\n",
       "      <td>2b73a28n</td>\n",
       "      <td>348055649b6b8cf2b9a376498df9bf41f7123605</td>\n",
       "      <td>PMC</td>\n",
       "      <td>Role of endothelin-1 in lung disease</td>\n",
       "      <td>10.1186/rr44</td>\n",
       "      <td>PMC59574</td>\n",
       "      <td>11686871</td>\n",
       "      <td>no-cc</td>\n",
       "      <td>Endothelin-1 (ET-1) is a 21 amino acid peptide...</td>\n",
       "      <td>2001-02-22</td>\n",
       "      <td>Fagan, Karen A; McMurtry, Ivan F; Rodman, David M</td>\n",
       "      <td>Respir Res</td>\n",
       "      <td>NaN</td>\n",
       "      <td>NaN</td>\n",
       "      <td>NaN</td>\n",
       "      <td>document_parses/pdf_json/348055649b6b8cf2b9a37...</td>\n",
       "      <td>document_parses/pmc_json/PMC59574.xml.json</td>\n",
       "      <td>https://www.ncbi.nlm.nih.gov/pmc/articles/PMC5...</td>\n",
       "      <td>NaN</td>\n",
       "      <td>2001</td>\n",
       "    </tr>\n",
       "    <tr>\n",
       "      <th>4</th>\n",
       "      <td>9785vg6d</td>\n",
       "      <td>5f48792a5fa08bed9f56016f4981ae2ca6031b32</td>\n",
       "      <td>PMC</td>\n",
       "      <td>Gene expression in epithelial cells in respons...</td>\n",
       "      <td>10.1186/rr61</td>\n",
       "      <td>PMC59580</td>\n",
       "      <td>11686888</td>\n",
       "      <td>no-cc</td>\n",
       "      <td>Respiratory syncytial virus (RSV) and pneumoni...</td>\n",
       "      <td>2001-05-11</td>\n",
       "      <td>Domachowske, Joseph B; Bonville, Cynthia A; Ro...</td>\n",
       "      <td>Respir Res</td>\n",
       "      <td>NaN</td>\n",
       "      <td>NaN</td>\n",
       "      <td>NaN</td>\n",
       "      <td>document_parses/pdf_json/5f48792a5fa08bed9f560...</td>\n",
       "      <td>document_parses/pmc_json/PMC59580.xml.json</td>\n",
       "      <td>https://www.ncbi.nlm.nih.gov/pmc/articles/PMC5...</td>\n",
       "      <td>NaN</td>\n",
       "      <td>2001</td>\n",
       "    </tr>\n",
       "  </tbody>\n",
       "</table>\n",
       "</div>"
      ],
      "text/plain": [
       "   cord_uid                                       sha source_x  \\\n",
       "0  ug7v899j  d1aafb70c066a2068b02786f8929fd9c900897fb      PMC   \n",
       "1  02tnwd4m  6b0567729c2143a66d737eb0a2f63f2dce2e5a7d      PMC   \n",
       "2  ejv2xln0  06ced00a5fc04215949aa72528f2eeaae1d58927      PMC   \n",
       "3  2b73a28n  348055649b6b8cf2b9a376498df9bf41f7123605      PMC   \n",
       "4  9785vg6d  5f48792a5fa08bed9f56016f4981ae2ca6031b32      PMC   \n",
       "\n",
       "                                               title                    doi  \\\n",
       "0  Clinical features of culture-proven Mycoplasma...  10.1186/1471-2334-1-6   \n",
       "1  Nitric oxide: a pro-inflammatory mediator in l...           10.1186/rr14   \n",
       "2    Surfactant protein-D and pulmonary host defense           10.1186/rr19   \n",
       "3               Role of endothelin-1 in lung disease           10.1186/rr44   \n",
       "4  Gene expression in epithelial cells in respons...           10.1186/rr61   \n",
       "\n",
       "      pmcid pubmed_id license  \\\n",
       "0  PMC35282  11472636   no-cc   \n",
       "1  PMC59543  11667967   no-cc   \n",
       "2  PMC59549  11667972   no-cc   \n",
       "3  PMC59574  11686871   no-cc   \n",
       "4  PMC59580  11686888   no-cc   \n",
       "\n",
       "                                            abstract publish_time  \\\n",
       "0  OBJECTIVE: This retrospective chart review des...   2001-07-04   \n",
       "1  Inflammatory diseases of the respiratory tract...   2000-08-15   \n",
       "2  Surfactant protein-D (SP-D) participates in th...   2000-08-25   \n",
       "3  Endothelin-1 (ET-1) is a 21 amino acid peptide...   2001-02-22   \n",
       "4  Respiratory syncytial virus (RSV) and pneumoni...   2001-05-11   \n",
       "\n",
       "                                             authors         journal  mag_id  \\\n",
       "0                Madani, Tariq A; Al-Ghamdi, Aisha A  BMC Infect Dis     NaN   \n",
       "1  Vliet, Albert van der; Eiserich, Jason P; Cros...      Respir Res     NaN   \n",
       "2                                    Crouch, Erika C      Respir Res     NaN   \n",
       "3  Fagan, Karen A; McMurtry, Ivan F; Rodman, David M      Respir Res     NaN   \n",
       "4  Domachowske, Joseph B; Bonville, Cynthia A; Ro...      Respir Res     NaN   \n",
       "\n",
       "  who_covidence_id arxiv_id  \\\n",
       "0              NaN      NaN   \n",
       "1              NaN      NaN   \n",
       "2              NaN      NaN   \n",
       "3              NaN      NaN   \n",
       "4              NaN      NaN   \n",
       "\n",
       "                                      pdf_json_files  \\\n",
       "0  document_parses/pdf_json/d1aafb70c066a2068b027...   \n",
       "1  document_parses/pdf_json/6b0567729c2143a66d737...   \n",
       "2  document_parses/pdf_json/06ced00a5fc04215949aa...   \n",
       "3  document_parses/pdf_json/348055649b6b8cf2b9a37...   \n",
       "4  document_parses/pdf_json/5f48792a5fa08bed9f560...   \n",
       "\n",
       "                               pmc_json_files  \\\n",
       "0  document_parses/pmc_json/PMC35282.xml.json   \n",
       "1  document_parses/pmc_json/PMC59543.xml.json   \n",
       "2  document_parses/pmc_json/PMC59549.xml.json   \n",
       "3  document_parses/pmc_json/PMC59574.xml.json   \n",
       "4  document_parses/pmc_json/PMC59580.xml.json   \n",
       "\n",
       "                                                 url  s2_id  publish_year  \n",
       "0  https://www.ncbi.nlm.nih.gov/pmc/articles/PMC3...    NaN          2001  \n",
       "1  https://www.ncbi.nlm.nih.gov/pmc/articles/PMC5...    NaN          2000  \n",
       "2  https://www.ncbi.nlm.nih.gov/pmc/articles/PMC5...    NaN          2000  \n",
       "3  https://www.ncbi.nlm.nih.gov/pmc/articles/PMC5...    NaN          2001  \n",
       "4  https://www.ncbi.nlm.nih.gov/pmc/articles/PMC5...    NaN          2001  "
      ]
     },
     "execution_count": 8,
     "metadata": {},
     "output_type": "execute_result"
    }
   ],
   "source": [
    "meta_df.head()"
   ]
  },
  {
   "cell_type": "markdown",
   "metadata": {},
   "source": [
    "Now I would just like to see articles by year, and get a sense of what this dataset actually is."
   ]
  },
  {
   "cell_type": "code",
   "execution_count": 9,
   "metadata": {},
   "outputs": [],
   "source": [
    "import matplotlib.pyplot as plt"
   ]
  },
  {
   "cell_type": "code",
   "execution_count": 10,
   "metadata": {},
   "outputs": [
    {
     "data": {
      "text/plain": [
       "(1980, 2020)"
      ]
     },
     "execution_count": 10,
     "metadata": {},
     "output_type": "execute_result"
    },
    {
     "data": {
      "image/png": "[encoded data removed]",
      "text/plain": [
       "<Figure size 432x288 with 1 Axes>"
      ]
     },
     "metadata": {
      "needs_background": "light"
     },
     "output_type": "display_data"
    }
   ],
   "source": [
    "n,bins,patches = plt.hist(x=meta_df['publish_year'],bins=range(1980,2021,1))\n",
    "plt.grid(axis='y', alpha=0.75)\n",
    "plt.xlabel('year')\n",
    "plt.ylabel('count')\n",
    "plt.title('Publication year of manuscripts in sample')\n",
    "plt.xlim([1980,2020])"
   ]
  },
  {
   "cell_type": "markdown",
   "metadata": {},
   "source": [
    "Clearly most of the relevant research on this topic has come out in the last year, but there is still a significant amount of previous research that has been deemed relevant. One thing I'd like to do next is get a sense of what type of research is included in this 'related' category that doesn't deal exactly with COVID-19"
   ]
  },
  {
   "cell_type": "code",
   "execution_count": 11,
   "metadata": {},
   "outputs": [],
   "source": [
    "# labeling articles which are likely to be directly related to COVID-19\n",
    "search_terms = str(r'COVID-19|covid|sars cov 2|SARS-CoV-2|2019-nCov|2019 ncov|SARS Coronavirus 2|2019 Novel Coronavirus|coronavirus 2019| Wuhan coronavirus|wuhan pneumonia|wuhan virus')\n",
    "meta_df['is_covid'] = meta_df.abstract.str.contains(search_terms, case=False) | meta_df.title.str.contains(search_terms, case=False)"
   ]
  },
  {
   "cell_type": "code",
   "execution_count": 12,
   "metadata": {},
   "outputs": [
    {
     "name": "stdout",
     "output_type": "stream",
     "text": [
      "73939 proposed COVID-19 articles vs 107821 related articles.\n"
     ]
    }
   ],
   "source": [
    "print(sum(meta_df.is_covid),'proposed COVID-19 articles vs', sum(meta_df.is_covid==False),'related articles.')"
   ]
  },
  {
   "cell_type": "markdown",
   "metadata": {},
   "source": [
    "Now I'd like to look a bit more at what these related articles contain, as a sanity check. First I'll just look at titles because that is faster."
   ]
  },
  {
   "cell_type": "code",
   "execution_count": 13,
   "metadata": {},
   "outputs": [
    {
     "data": {
      "image/png": "[encoded data removed]",
      "text/plain": [
       "<Figure size 720x360 with 1 Axes>"
      ]
     },
     "metadata": {
      "needs_background": "light"
     },
     "output_type": "display_data"
    }
   ],
   "source": [
    "from collections import Counter\n",
    "#this code is pretty slow\n",
    "rel_df = meta_df[meta_df['is_covid'] == False]\n",
    "cov_df = meta_df[meta_df['is_covid'] == True]\n",
    "all_titles = rel_df.title.str.lower()\n",
    "all_titles = ' '.join(all_titles)\n",
    "results = Counter(all_titles.split())\n",
    "stop_list = {'the','and','to','in','of','a','for','with','on','by','from','an','as','is'} #stripping some common but not useful words\n",
    "word_list = [(word,count) for [word,count] in results.most_common(40) if word not in stop_list]\n",
    "word_list = word_list[:20]\n",
    "\n",
    "word_list = dict(word_list)\n",
    "plt.figure(figsize=(10,5))\n",
    "plt.bar(range(len(word_list)), list(word_list.values()), align='center')\n",
    "plt.xticks(ticks =range(20),labels = word_list.keys(), rotation = 90)\n",
    "plt.ylabel('count')\n",
    "plt.title('20 most common words in titles')\n",
    "plt.show()"
   ]
  },
  {
   "cell_type": "markdown",
   "metadata": {},
   "source": [
    "The above is a plot of the 20 most common words taken from the 'relevant' dataset. A lot of these are pretty obvious picks seeming to do with respiratory illnesses caused by viruses (including coronaviruses). I think this is a good reference data set to work from, as it is likely that this is the most relevant research for directly comparing to COVID specific research."
   ]
  },
  {
   "cell_type": "markdown",
   "metadata": {},
   "source": [
    "For both the relevant and covid datasets, I'm curious about what (if any) journals are showing up most commonly."
   ]
  },
  {
   "cell_type": "code",
   "execution_count": 14,
   "metadata": {},
   "outputs": [
    {
     "data": {
      "image/png": "[encoded data removed]",
      "text/plain": [
       "<Figure size 1080x360 with 2 Axes>"
      ]
     },
     "metadata": {
      "needs_background": "light"
     },
     "output_type": "display_data"
    }
   ],
   "source": [
    "rel_results = Counter(rel_df.journal.str.lower())\n",
    "stop_list = {''} #will add stop list if needed\n",
    "word_list = [(word,count) for [word,count] in rel_results.most_common(20) if word not in stop_list]\n",
    "word_list = dict(word_list)\n",
    "plt.figure(figsize=(15,5))\n",
    "plt.subplot(1,2,1)\n",
    "plt.bar(range(len(word_list)), list(word_list.values()), align='center')\n",
    "plt.xticks(ticks =range(20),labels = word_list.keys(),rotation = 90)\n",
    "plt.ylabel('count')\n",
    "plt.title('20 most common journals for relevant data')\n",
    "#now for covid\n",
    "cov_results = Counter(cov_df.journal.str.lower())\n",
    "stop_list = {'none'} #including none here because so many unpublished are making it hard to actually see what journals are relevant\n",
    "word_list = [(word,count) for [word,count] in cov_results.most_common(20) if word not in stop_list]\n",
    "word_list = dict(word_list)\n",
    "plt.subplot(1,2,2)\n",
    "plt.bar(range(len(word_list)), list(word_list.values()), align='center')\n",
    "plt.xticks(ticks =range(20),labels = word_list.keys(),rotation = 90)\n",
    "plt.ylabel('count')\n",
    "plt.title('20 most common journals for COVID data')\n",
    "plt.show()"
   ]
  },
  {
   "cell_type": "markdown",
   "metadata": {},
   "source": [
    "I'm not an expert in virology, but I recognize many of these journals in both datasets. The large number of articles posted on biorxiv (a preprint server) is also gratifying, as this is exactly the set of data I'm hoping to address. \n",
    "One thing that is very surprising is 1200+ papers from BMJ (British medical journal) for COVID-19. BMJ has a reputation as something of a glamour mag, meaning that they publish a small number of high impact papers every month. To see almost 1300 papers would require publishing 200 a month, and that is just not realistic. In fact all of these numbers are quite high, and so I suspect that my data is not purely coming in the form of research articles."
   ]
  },
  {
   "cell_type": "markdown",
   "metadata": {},
   "source": [
    "## Limiting scope to primary research articles"
   ]
  },
  {
   "cell_type": "code",
   "execution_count": 15,
   "metadata": {},
   "outputs": [
    {
     "data": {
      "text/plain": [
       "cord_uid               0\n",
       "sha                 1285\n",
       "source_x               0\n",
       "title                  0\n",
       "doi                  669\n",
       "pmcid               1272\n",
       "pubmed_id            680\n",
       "license                0\n",
       "abstract               0\n",
       "publish_time           0\n",
       "authors               24\n",
       "journal                0\n",
       "mag_id              1293\n",
       "who_covidence_id     595\n",
       "arxiv_id            1293\n",
       "pdf_json_files      1285\n",
       "pmc_json_files      1274\n",
       "url                  669\n",
       "s2_id                  1\n",
       "publish_year           0\n",
       "is_covid               0\n",
       "dtype: int64"
      ]
     },
     "execution_count": 15,
     "metadata": {},
     "output_type": "execute_result"
    }
   ],
   "source": [
    "bmj_df = cov_df.loc[cov_df['journal'].str.lower() == 'bmj']\n",
    "bmj_df.isnull().sum()"
   ]
  },
  {
   "cell_type": "code",
   "execution_count": 16,
   "metadata": {},
   "outputs": [
    {
     "data": {
      "text/plain": [
       "12006    Scope, quality, and inclusivity of clinical gu...\n",
       "26485    Covid-19: school closures and bans on mass gat...\n",
       "26620    Covid-19: out-of-hours providers are drafted i...\n",
       "26621    Covid-19: Validity of key studies in doubt aft...\n",
       "26653    Covid-19: We need to be open about rationing v...\n",
       "26832    Covid-19: New government study aims to track i...\n",
       "26861    Covid-19: Local health teams trace eight times...\n",
       "26932    Covid-19: pandemic healthcare centres should h...\n",
       "26947                          Waste in covid-19 research.\n",
       "26984       Public inquiry into UK's response to covid-19.\n",
       "27010    Covid-19 and ethnicity: it's too early to poin...\n",
       "27032    Covid-19: UK needs flexible local plans to com...\n",
       "27482       Covid-19: a remote assessment in primary care.\n",
       "27506    The Brazilian slums hiring their own doctors t...\n",
       "27629    Covid-19: ensuring equality of access to testi...\n",
       "27666    Covid-19: Doctors performing resuscitation nee...\n",
       "27740    What the Diamond Princess taught the world abo...\n",
       "27753    Covid-19: GP surgeries close for two weeks aft...\n",
       "27757          Mourning our dead in the covid-19 pandemic.\n",
       "27902    Donald Trump: a political determinant of covid...\n",
       "Name: title, dtype: object"
      ]
     },
     "execution_count": 16,
     "metadata": {},
     "output_type": "execute_result"
    }
   ],
   "source": [
    "bmj_df.title.head(20)"
   ]
  },
  {
   "cell_type": "markdown",
   "metadata": {},
   "source": [
    "One thing I'm noticing is that many of these sound very much like news articles. If so they likely don't have an abstract."
   ]
  },
  {
   "cell_type": "code",
   "execution_count": 17,
   "metadata": {},
   "outputs": [
    {
     "data": {
      "text/plain": [
       "1242"
      ]
     },
     "execution_count": 17,
     "metadata": {},
     "output_type": "execute_result"
    }
   ],
   "source": [
    "bmj_df.loc[bmj_df.abstract == 'none'].shape[0]"
   ]
  },
  {
   "cell_type": "markdown",
   "metadata": {},
   "source": [
    "Over 1200! This is many more than I expected, and inspired me to go look at how the bmj publishes content. It looks like this publication is actually mainly news, editorials, and letters rather than scientific research (though they do publish that as well). In fact I'm finding that they put out around 10-20 articles a month. In that case it actually is very reasonable that they might have ~50 research articles specifically dealing with COVID-19, as this has only been a hot research topic for around 6 months at the time of writing and I don't expect that 100% of publications will be about covid. In this case it looks like filtering to only include articles with abstracts might be a win. This is a double benefit, because I am mostly planning on looking at abstracts and titles for this NLP project, and so data which do not contain these are less useful for me in any case."
   ]
  },
  {
   "cell_type": "markdown",
   "metadata": {},
   "source": [
    "Armed with this information, I might want to pick a few of the other journals to see if this abstract filter criteria is a good general one."
   ]
  },
  {
   "cell_type": "code",
   "execution_count": 18,
   "metadata": {},
   "outputs": [
    {
     "data": {
      "text/plain": [
       "9081                  Emerging understandings of 2019-nCoV\n",
       "9195                       COVID-19: too little, too late?\n",
       "9482             COVID-19: fighting panic with information\n",
       "9485              COVID-19: protecting health-care workers\n",
       "9582                   The gendered dimensions of COVID-19\n",
       "9583                         Dementia care during COVID-19\n",
       "9584             Palliative care and the COVID-19 pandemic\n",
       "9700               Canada and COVID-19: learning from SARS\n",
       "9750     Preparedness is essential for malaria-endemic ...\n",
       "9965               COVID-19 in the USA: a question of time\n",
       "9967           Sustaining containment of COVID-19 in China\n",
       "10641                        India under COVID-19 lockdown\n",
       "10836         WHO launches crowdfund for COVID-19 response\n",
       "10839    COVID-19 cacophony: is there any orchestra con...\n",
       "11887                       COVID-19 in Brazil: “So what?”\n",
       "11890               COVID-19: remaking the social contract\n",
       "11940    COVID-19 will not leave behind refugees and mi...\n",
       "11945      Redefining vulnerability in the era of COVID-19\n",
       "12045              Global governance for COVID-19 vaccines\n",
       "18414    Immunosuppression for hyperinflammation in COV...\n",
       "Name: title, dtype: object"
      ]
     },
     "execution_count": 18,
     "metadata": {},
     "output_type": "execute_result"
    }
   ],
   "source": [
    "cov_df.loc[cov_df.journal.str.lower() == 'lancet'].title.head(20)"
   ]
  },
  {
   "cell_type": "code",
   "execution_count": 19,
   "metadata": {},
   "outputs": [
    {
     "data": {
      "text/plain": [
       "35923     Effectiveness of intermittent pneumatic compre...\n",
       "44557     Solitaire flow restoration device versus the M...\n",
       "66066     Effectiveness of thigh-length graduated compre...\n",
       "88062     Clinical features of patients infected with 20...\n",
       "88063     Clinical features of patients infected with 20...\n",
       "89888     A familial cluster of pneumonia associated wit...\n",
       "92255     First known person-to-person transmission of s...\n",
       "92256     First known person-to-person transmission of s...\n",
       "92257     First known person-to-person transmission of s...\n",
       "92432     Clinical characteristics and intrauterine vert...\n",
       "93371     Quality of primary health care in China: chall...\n",
       "93936     Seroprevalence of anti-SARS-CoV-2 IgG antibodi...\n",
       "96851     COVID-19 mortality in patients with cancer on ...\n",
       "97221     Clinical impact of COVID-19 on patients with c...\n",
       "98236     Nowcasting and forecasting the potential domes...\n",
       "98655     Active case finding with case management: the ...\n",
       "99624     Use of renin-angiotensin-aldosterone system in...\n",
       "99625     Use of renin-angiotensin-aldosterone system in...\n",
       "100518    Triple combination of interferon beta-1b, lopi...\n",
       "100519    Triple combination of interferon beta-1b, lopi...\n",
       "Name: title, dtype: object"
      ]
     },
     "execution_count": 19,
     "metadata": {},
     "output_type": "execute_result"
    }
   ],
   "source": [
    "w_abs = cov_df.loc[(cov_df.journal.str.lower() == 'lancet') & (cov_df.abstract != 'none')].shape[0]\n",
    "wo_abs = cov_df.loc[(cov_df.journal.str.lower() == 'lancet') & (cov_df.abstract == 'none')].shape[0]\n",
    "cov_df.loc[(cov_df.journal.str.lower() == 'lancet') & (cov_df.abstract != 'none')].title.head(20)"
   ]
  },
  {
   "cell_type": "markdown",
   "metadata": {},
   "source": [
    "From skimming the titles and doings some google spot checks, it seems like this abstract filter is pretty efficient for identifying primary research articles. However, here I'm seeing another problem which is apparent duplicate articles. This is likely to be a problem for all of my data and so I will need to add in a filter for this."
   ]
  },
  {
   "cell_type": "code",
   "execution_count": 20,
   "metadata": {},
   "outputs": [
    {
     "data": {
      "text/html": [
       "<div>\n",
       "<style scoped>\n",
       "    .dataframe tbody tr th:only-of-type {\n",
       "        vertical-align: middle;\n",
       "    }\n",
       "\n",
       "    .dataframe tbody tr th {\n",
       "        vertical-align: top;\n",
       "    }\n",
       "\n",
       "    .dataframe thead th {\n",
       "        text-align: right;\n",
       "    }\n",
       "</style>\n",
       "<table border=\"1\" class=\"dataframe\">\n",
       "  <thead>\n",
       "    <tr style=\"text-align: right;\">\n",
       "      <th></th>\n",
       "      <th>cord_uid</th>\n",
       "      <th>sha</th>\n",
       "      <th>source_x</th>\n",
       "      <th>title</th>\n",
       "      <th>doi</th>\n",
       "      <th>pmcid</th>\n",
       "      <th>pubmed_id</th>\n",
       "      <th>license</th>\n",
       "      <th>abstract</th>\n",
       "      <th>publish_time</th>\n",
       "      <th>...</th>\n",
       "      <th>journal</th>\n",
       "      <th>mag_id</th>\n",
       "      <th>who_covidence_id</th>\n",
       "      <th>arxiv_id</th>\n",
       "      <th>pdf_json_files</th>\n",
       "      <th>pmc_json_files</th>\n",
       "      <th>url</th>\n",
       "      <th>s2_id</th>\n",
       "      <th>publish_year</th>\n",
       "      <th>is_covid</th>\n",
       "    </tr>\n",
       "  </thead>\n",
       "  <tbody>\n",
       "    <tr>\n",
       "      <th>92255</th>\n",
       "      <td>lp8s0r2m</td>\n",
       "      <td>NaN</td>\n",
       "      <td>WHO</td>\n",
       "      <td>First known person-to-person transmission of s...</td>\n",
       "      <td>NaN</td>\n",
       "      <td>NaN</td>\n",
       "      <td>NaN</td>\n",
       "      <td>unk</td>\n",
       "      <td>BACKGROUND: Coronavirus disease 2019 (COVID-19...</td>\n",
       "      <td>2020</td>\n",
       "      <td>...</td>\n",
       "      <td>Lancet</td>\n",
       "      <td>NaN</td>\n",
       "      <td>#8381</td>\n",
       "      <td>NaN</td>\n",
       "      <td>NaN</td>\n",
       "      <td>NaN</td>\n",
       "      <td>NaN</td>\n",
       "      <td>212685444.0</td>\n",
       "      <td>2020</td>\n",
       "      <td>True</td>\n",
       "    </tr>\n",
       "    <tr>\n",
       "      <th>92256</th>\n",
       "      <td>8jz01a8k</td>\n",
       "      <td>NaN</td>\n",
       "      <td>WHO</td>\n",
       "      <td>First known person-to-person transmission of s...</td>\n",
       "      <td>NaN</td>\n",
       "      <td>NaN</td>\n",
       "      <td>NaN</td>\n",
       "      <td>unk</td>\n",
       "      <td>BACKGROUND: Coronavirus disease 2019 (COVID-19...</td>\n",
       "      <td>2020</td>\n",
       "      <td>...</td>\n",
       "      <td>Lancet</td>\n",
       "      <td>NaN</td>\n",
       "      <td>#12369</td>\n",
       "      <td>NaN</td>\n",
       "      <td>NaN</td>\n",
       "      <td>NaN</td>\n",
       "      <td>NaN</td>\n",
       "      <td>212685444.0</td>\n",
       "      <td>2020</td>\n",
       "      <td>True</td>\n",
       "    </tr>\n",
       "    <tr>\n",
       "      <th>92257</th>\n",
       "      <td>lnvvwrbp</td>\n",
       "      <td>NaN</td>\n",
       "      <td>WHO</td>\n",
       "      <td>First known person-to-person transmission of s...</td>\n",
       "      <td>NaN</td>\n",
       "      <td>NaN</td>\n",
       "      <td>NaN</td>\n",
       "      <td>unk</td>\n",
       "      <td>BACKGROUND: Coronavirus disease 2019 (COVID-19...</td>\n",
       "      <td>2020</td>\n",
       "      <td>...</td>\n",
       "      <td>Lancet</td>\n",
       "      <td>NaN</td>\n",
       "      <td>#32178768</td>\n",
       "      <td>NaN</td>\n",
       "      <td>NaN</td>\n",
       "      <td>NaN</td>\n",
       "      <td>NaN</td>\n",
       "      <td>212685444.0</td>\n",
       "      <td>2020</td>\n",
       "      <td>True</td>\n",
       "    </tr>\n",
       "  </tbody>\n",
       "</table>\n",
       "<p>3 rows × 21 columns</p>\n",
       "</div>"
      ],
      "text/plain": [
       "       cord_uid  sha source_x  \\\n",
       "92255  lp8s0r2m  NaN      WHO   \n",
       "92256  8jz01a8k  NaN      WHO   \n",
       "92257  lnvvwrbp  NaN      WHO   \n",
       "\n",
       "                                                   title  doi pmcid pubmed_id  \\\n",
       "92255  First known person-to-person transmission of s...  NaN   NaN       NaN   \n",
       "92256  First known person-to-person transmission of s...  NaN   NaN       NaN   \n",
       "92257  First known person-to-person transmission of s...  NaN   NaN       NaN   \n",
       "\n",
       "      license                                           abstract publish_time  \\\n",
       "92255     unk  BACKGROUND: Coronavirus disease 2019 (COVID-19...         2020   \n",
       "92256     unk  BACKGROUND: Coronavirus disease 2019 (COVID-19...         2020   \n",
       "92257     unk  BACKGROUND: Coronavirus disease 2019 (COVID-19...         2020   \n",
       "\n",
       "       ... journal mag_id  who_covidence_id arxiv_id pdf_json_files  \\\n",
       "92255  ...  Lancet    NaN             #8381      NaN            NaN   \n",
       "92256  ...  Lancet    NaN            #12369      NaN            NaN   \n",
       "92257  ...  Lancet    NaN         #32178768      NaN            NaN   \n",
       "\n",
       "      pmc_json_files  url        s2_id  publish_year  is_covid  \n",
       "92255            NaN  NaN  212685444.0          2020      True  \n",
       "92256            NaN  NaN  212685444.0          2020      True  \n",
       "92257            NaN  NaN  212685444.0          2020      True  \n",
       "\n",
       "[3 rows x 21 columns]"
      ]
     },
     "execution_count": 20,
     "metadata": {},
     "output_type": "execute_result"
    }
   ],
   "source": [
    "#checking that duplicates are actually duplicated, not just very similar.\n",
    "dup_ex = cov_df.loc[(cov_df.journal.str.lower() == 'lancet') & (cov_df.abstract != 'none')][6:9]\n",
    "dup_ex"
   ]
  },
  {
   "cell_type": "code",
   "execution_count": 21,
   "metadata": {},
   "outputs": [
    {
     "name": "stdout",
     "output_type": "stream",
     "text": [
      "new size of cov_df, only including articles with abstracts: 44359\n",
      "new size of rel_df, only including articles with abstracts: 86203\n"
     ]
    }
   ],
   "source": [
    "#trimming data to only include manuscripts with abstracts\n",
    "cov_df = cov_df.loc[cov_df.abstract != 'none']\n",
    "print('new size of cov_df, only including articles with abstracts:', cov_df.shape[0])\n",
    "rel_df = rel_df.loc[rel_df.abstract != 'none']\n",
    "print('new size of rel_df, only including articles with abstracts:', rel_df.shape[0])"
   ]
  },
  {
   "cell_type": "code",
   "execution_count": 33,
   "metadata": {},
   "outputs": [
    {
     "name": "stdout",
     "output_type": "stream",
     "text": [
      "before filtering, covid df: 33553\n",
      "after filtering, covid df: 33553\n",
      "before filtering, rel df: 86203\n",
      "after filtering, rel df: 84916\n"
     ]
    },
    {
     "data": {
      "text/plain": [
       "8196     Klug entscheiden: bei SARS-CoV-2 und anderen I...\n",
       "8276     BARICITINIB - A JANUASE KINASE INHIBITOR - NOT...\n",
       "11088    COVID-19: Rätsel um den Verlauf bei Kindern: C...\n",
       "11089    Behandlung von Patienten in Corona-Ambulanzen:...\n",
       "11926    Remdesivir, la esperanza antiviral frente al S...\n",
       "11995    Thinking Outside the Box: A Low-cost and Pragm...\n",
       "12145    COVID-KOP: Integrating Emerging COVID-19 Data ...\n",
       "13306    Elevated levels of plasma cytokines in COVID-1...\n",
       "13568             Drug repurposing strategies for COVID-19\n",
       "17701                                  Wuhan virus spreads\n",
       "19038                        Physics in a time of COVID-19\n",
       "19227                             Pandemic data challenges\n",
       "19493    Specific Considerations for the Protection of ...\n",
       "20801                                        O3 highlights\n",
       "20905    CT radiomics can help screen the Coronavirus d...\n",
       "21027    Public Policy and Constitutional Rights in Tim...\n",
       "21118    COVID‐19 causes more delay in managed care lau...\n",
       "21125       CMS approves additional state Medicaid waivers\n",
       "21644    Pros and cons of the application of evolutiona...\n",
       "21804    Teaching Professional Formation in Response to...\n",
       "Name: title, dtype: object"
      ]
     },
     "execution_count": 33,
     "metadata": {},
     "output_type": "execute_result"
    }
   ],
   "source": [
    "#filtering duplicate articles\n",
    "print('before filtering, covid df:', cov_df.shape[0])\n",
    "cov_df = cov_df[~cov_df.duplicated(keep = 'last', subset='title')]\n",
    "print('after filtering, covid df:', cov_df.shape[0])\n",
    "print('before filtering, rel df:', rel_df.shape[0])\n",
    "rel_df = rel_df[~rel_df.duplicated(keep = 'last', subset='title')]\n",
    "print('after filtering, rel df:', rel_df.shape[0])\n",
    "cov_df.title.head(20)"
   ]
  },
  {
   "cell_type": "markdown",
   "metadata": {},
   "source": [
    "## Identifying whether predatory journals are present in this dataset\n",
    "Now that I've got a smaller, more relevant data set, it's time to return to the original question and see if I can start identifying features of predatory vs. reputable journals. First I need a list to define what journals belong in which category. (Un)fortunately, this has been a problem for a long time, and so there are some good resources for this. I'm going to extract a list from https://predatoryjournals.com/journals/, and then do some spot checks to see if I believe this list. "
   ]
  },
  {
   "cell_type": "code",
   "execution_count": 68,
   "metadata": {},
   "outputs": [
    {
     "name": "stdout",
     "output_type": "stream",
     "text": [
      "journal of psychology and theology\n",
      "journal of theoretical and applied information technology\n",
      "international journal of business and management invention\n",
      "international journal of development and sustainability\n",
      "international journal of engineering & science research\n"
     ]
    }
   ],
   "source": [
    "pred_j_list = pd.read_csv(r'D:\\GitHub\\preprintR\\data\\raw\\predatory_journal_list.csv')\n",
    "\n",
    "pred_j_list.name= pred_j_list.name.str.lower()\n",
    "for n in pred_j_list.sample(n=5).name:\n",
    "    print(n)\n"
   ]
  },
  {
   "cell_type": "markdown",
   "metadata": {},
   "source": [
    "Reviews from my random sample:\n",
    "\n",
    "Journal of Applied Biology & Biotechnology - open access journal. Seems to have real people listed on editorial board. Not convinced that this is literally a scam.\n",
    "\n",
    "International Journal of Biology, Pharmacy and Allied Sciences - Pay to publish. Peer reviewed?\n",
    "\n",
    "Al Ameen Journal of Medical Sciences - not obviously pay to publish, but does not seem very polished\n",
    "\n",
    "Journal of Innovative Research and Solutions - cannot find publish information\n",
    "\n",
    "International Journal of Innovative Research in Technology - pretty questionable website\n",
    "\n",
    "Looking at the above, I am not convinced that this list is going to be a perfect measure of whether journals are literally fake, pay to publish scams. However it does seem like the journals I've looked at here are not particularly high quality, so at least it might be useful as a rough benchmark.\n"
   ]
  },
  {
   "cell_type": "code",
   "execution_count": 64,
   "metadata": {},
   "outputs": [],
   "source": [
    "#for testing to see if filter is actually working\n",
    "new_row = pd.Series(data={'name':'plos one', 'url':'none', 'abbr':'test'}, name='x')\n",
    "pred_j_list = pred_j_list.append(new_row)\n",
    "pred_j_list[-1:]"
   ]
  },
  {
   "cell_type": "code",
   "execution_count": 81,
   "metadata": {},
   "outputs": [
    {
     "name": "stdout",
     "output_type": "stream",
     "text": [
      "shape of overlapping list (rel sample): (86, 24)\n",
      "shape of overlapping list (cov sample): (19, 24)\n"
     ]
    },
    {
     "data": {
      "image/png": "[encoded data removed]",
      "text/plain": [
       "<Figure size 1080x360 with 2 Axes>"
      ]
     },
     "metadata": {
      "needs_background": "light"
     },
     "output_type": "display_data"
    }
   ],
   "source": [
    "rel_df.journal = rel_df.journal.str.lower()\n",
    "pred_df = pd.merge(rel_df, pred_j_list, how='inner', left_on='journal', right_on='name')\n",
    "print('shape of overlapping list (rel sample):',pred_df.shape)\n",
    "rel_results = Counter(pred_df.journal)\n",
    "stop_list = {''} #will add stop list if needed\n",
    "word_list = [(word,count) for [word,count] in rel_results.most_common(10) if word not in stop_list]\n",
    "word_list = dict(word_list)\n",
    "plt.figure(figsize=(15,5))\n",
    "plt.subplot(1,2,1)\n",
    "plt.bar(range(len(word_list)), list(word_list.values()), align='center')\n",
    "plt.xticks(ticks =range(10),labels = word_list.keys(),rotation = 90)\n",
    "plt.ylabel('count')\n",
    "plt.title('most common predatory journals in REL sample')\n",
    "\n",
    "cov_df.journal = cov_df.journal.str.lower()\n",
    "pred_cov_df = pd.merge(cov_df, pred_j_list, how='inner', left_on='journal', right_on='name')\n",
    "print('shape of overlapping list (cov sample):',pred_cov_df.shape)\n",
    "rel_results = Counter(pred_cov_df.journal)\n",
    "stop_list = {''} #will add stop list if needed\n",
    "word_list = [(word,count) for [word,count] in rel_results.most_common(10) if word not in stop_list]\n",
    "word_list = dict(word_list)\n",
    "plt.subplot(1,2,2)\n",
    "plt.bar(range(len(word_list)), list(word_list.values()), align='center')\n",
    "plt.xticks(ticks =range(10),labels = word_list.keys(),rotation = 90)\n",
    "plt.ylabel('count')\n",
    "plt.title('most common predatory journals in COV sample')\n",
    "plt.show()"
   ]
  },
  {
   "cell_type": "markdown",
   "metadata": {},
   "source": [
    "only 86 out of a 86,000? That's not bad at all, and indicates that the relevant dataset we've picked is not really suffering from the predatory journal problem."
   ]
  },
  {
   "cell_type": "markdown",
   "metadata": {},
   "source": [
    "From these two plots it seems like there is very little contamination from predatory journals. This is almost certainly because all of the published manuscripts in this set are scraped from PMIC or PubMed, and these services already provide a filter for credibility.\n",
    "\n",
    "Overall this is good news and bad news. The good news is that the **published** covid articles in this sample have mostly been published in reputable journals (at least not those included on my predatory journals list). The bad news is that I have an extremely imbalanced classification problem using just these datasets. \n",
    "\n",
    "There are two options here, one is to go and find more data. This would probably mean going onto these predatory sites and scraping my own relevant dataset. There are a couple reasons that this would not be my favorite thing to do, one of which is I don't have great subject matter expertise to pick the most relevant and another being I'm not super interested in spending a lot of time perusing sketchy offshore websites.\n",
    "\n",
    "So the next option is to instead take all of the journals I do have, most of which are valid journals, and classify them according to quality. This is kindof a hairy problem and involves a lot of subjectivity, not to mention the idea of picking winners and losers based on journal impact factor or something else kinda makes my skin crawl. However, this might be good enough for an initial pass."
   ]
  },
  {
   "cell_type": "markdown",
   "metadata": {},
   "source": [
    "## Using impact factor to rank journals\n",
    "\n",
    "I'm going to be working from CJR data downloaded from Clarivate"
   ]
  },
  {
   "cell_type": "markdown",
   "metadata": {},
   "source": [
    "Tracking required pre-processing steps, so that they can be implemented in a script.\n",
    "1. Label data as COVID-19 specific or just 'relevant'\n",
    "2. Cull news articles by requiring that each manuscript has a linked abstract\n",
    "3. Make everything lowercase\n",
    "3. remove duplicates by filtering for articles with the same title and/or abstract content\n",
    "4. Filter for english only?\n",
    "5. separate pre-publication manuscripts from published"
   ]
  },
  {
   "cell_type": "code",
   "execution_count": null,
   "metadata": {},
   "outputs": [],
   "source": []
  }
 ],
 "metadata": {
  "kernelspec": {
   "display_name": "Python 3",
   "language": "python",
   "name": "python3"
  },
  "language_info": {
   "codemirror_mode": {
    "name": "ipython",
    "version": 3
   },
   "file_extension": ".py",
   "mimetype": "text/x-python",
   "name": "python",
   "nbconvert_exporter": "python",
   "pygments_lexer": "ipython3",
   "version": "3.7.3"
  }
 },
 "nbformat": 4,
 "nbformat_minor": 2
}
